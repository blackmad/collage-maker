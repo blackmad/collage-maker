{
 "cells": [
  {
   "cell_type": "markdown",
   "metadata": {},
   "source": []
  },
  {
   "cell_type": "code",
   "execution_count": null,
   "metadata": {},
   "outputs": [],
   "source": [
    "import cv2\n",
    "\n",
    "filename = '/Users/blackmad/Dropbox/Collage/All Playboy Centerfolds, 1953 - 2014/objects/person/x-1980_05_Martha_Elizabeth_Thomsen_Playboy_Centerfold-0-person-0.9966774.png'\n",
    "\n",
    "im = cv2.imread(filename)\n",
    "old_size = im.shape[:2] # old_size is in (height, width) format\n",
    "\n",
    "new_size = tuple([int(x+20) for x in old_size])\n",
    "\n",
    "# new_size should be in (width, height) format\n",
    "\n",
    "\n"
   ]
  },
  {
   "cell_type": "code",
   "execution_count": null,
   "metadata": {},
   "outputs": [],
   "source": [
    "im = cv2.resize(im, (new_size[1], new_size[0]))\n"
   ]
  },
  {
   "cell_type": "code",
   "execution_count": null,
   "metadata": {},
   "outputs": [],
   "source": [
    "\n",
    "delta_w = new_size[1] - old_size[1]\n",
    "delta_h = new_size[0] - old_size[0]\n",
    "top, bottom = delta_h//2, delta_h-(delta_h//2)\n",
    "left, right = delta_w//2, delta_w-(delta_w//2)\n",
    "\n",
    "color = [0, 0, 0]\n",
    "new_im = cv2.copyMakeBorder(im, top, bottom, left, right, cv2.BORDER_CONSTANT,\n",
    "    value=color)"
   ]
  }
 ],
 "metadata": {
  "kernelspec": {
   "display_name": "Python 3",
   "language": "python",
   "name": "python3"
  },
  "language_info": {
   "codemirror_mode": {
    "name": "ipython",
    "version": 3
   },
   "file_extension": ".py",
   "mimetype": "text/x-python",
   "name": "python",
   "nbconvert_exporter": "python",
   "pygments_lexer": "ipython3",
   "version": "3.7.3"
  }
 },
 "nbformat": 4,
 "nbformat_minor": 2
}
